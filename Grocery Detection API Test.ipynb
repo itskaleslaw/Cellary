{
 "cells": [
  {
   "cell_type": "code",
   "execution_count": 34,
   "metadata": {},
   "outputs": [],
   "source": [
    "from inference_sdk import InferenceHTTPClient\n",
    "\n",
    "CLIENT = InferenceHTTPClient(\n",
    "    api_url=\"https://detect.roboflow.com\",\n",
    "    api_key=\"4GpS4lIdfoR9rQaklxq6\"\n",
    ")\n",
    "\n",
    "result = CLIENT.infer(\"c:\\\\Users\\\\Justin Li\\\\Downloads\\\\groceries.jpeg\", model_id=\"grocery-product-detection-s9z8d/1\")"
   ]
  },
  {
   "cell_type": "code",
   "execution_count": 36,
   "metadata": {},
   "outputs": [
    {
     "name": "stdout",
     "output_type": "stream",
     "text": [
      "{'inference_id': '34f10642-7775-4771-9c96-822c88f06cfc', 'time': 0.05773580100003528, 'image': {'width': 1024, 'height': 1024}, 'predictions': [{'x': 845.0, 'y': 886.5, 'width': 142.0, 'height': 167.0, 'confidence': 0.846327543258667, 'class': 'Meat', 'class_id': 34, 'detection_id': 'a205102e-8e4a-4edc-b73a-52ffad9ea088'}, {'x': 133.5, 'y': 91.0, 'width': 93.0, 'height': 100.0, 'confidence': 0.7060582637786865, 'class': 'Apple', 'class_id': 1, 'detection_id': 'ff960c12-b582-4508-9a1f-cb27d8b55e15'}, {'x': 770.0, 'y': 726.0, 'width': 328.0, 'height': 120.0, 'confidence': 0.6503320336341858, 'class': 'Meat', 'class_id': 34, 'detection_id': 'd394ae3c-63bc-4407-9f69-a07e551452fa'}, {'x': 688.0, 'y': 883.5, 'width': 144.0, 'height': 163.0, 'confidence': 0.6049203872680664, 'class': 'Meat', 'class_id': 34, 'detection_id': '6b219e20-1bf2-4a35-b51f-93552ea1ea8d'}, {'x': 404.0, 'y': 231.0, 'width': 142.0, 'height': 134.0, 'confidence': 0.5521871447563171, 'class': 'Blackberries', 'class_id': 7, 'detection_id': '975728d1-48ea-4c47-8d92-b926688a154e'}, {'x': 817.5, 'y': 117.5, 'width': 203.0, 'height': 137.0, 'confidence': 0.5178812742233276, 'class': 'Raspberries', 'class_id': 44, 'detection_id': 'd726a76e-0cd7-426d-9f79-49215a76f24d'}, {'x': 410.0, 'y': 95.5, 'width': 132.0, 'height': 121.0, 'confidence': 0.4350678622722626, 'class': 'Blackberries', 'class_id': 7, 'detection_id': 'b7a63206-9299-494d-8d1c-ba7a81aef4fc'}]}\n"
     ]
    }
   ],
   "source": [
    "print(result)"
   ]
  },
  {
   "cell_type": "code",
   "execution_count": 39,
   "metadata": {},
   "outputs": [
    {
     "name": "stdout",
     "output_type": "stream",
     "text": [
      "Meat\n",
      "Apple\n",
      "Meat\n",
      "Meat\n",
      "Blackberries\n",
      "Raspberries\n",
      "Blackberries\n"
     ]
    }
   ],
   "source": [
    "for pred in result['predictions']:\n",
    "    print(pred['class'])\n"
   ]
  }
 ],
 "metadata": {
  "kernelspec": {
   "display_name": "Python 3",
   "language": "python",
   "name": "python3"
  },
  "language_info": {
   "codemirror_mode": {
    "name": "ipython",
    "version": 3
   },
   "file_extension": ".py",
   "mimetype": "text/x-python",
   "name": "python",
   "nbconvert_exporter": "python",
   "pygments_lexer": "ipython3",
   "version": "3.11.9"
  }
 },
 "nbformat": 4,
 "nbformat_minor": 2
}
